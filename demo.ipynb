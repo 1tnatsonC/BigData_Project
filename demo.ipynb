{
 "cells": [
  {
   "cell_type": "markdown",
   "metadata": {},
   "source": [
    "<h1>Demo</h1>\n",
    "\n",
    "load tensor flow dataset\n",
    "\n",
    "convert to torch dataset\n",
    "\n",
    "test cnn resnet"
   ]
  },
  {
   "cell_type": "code",
   "execution_count": 22,
   "metadata": {},
   "outputs": [],
   "source": [
    "import torch \n",
    "import torchaudio\n",
    "import torchaudio.transforms as T\n",
    "import torch.nn as nn\n",
    "import torch.nn.functional as F\n",
    "import torch.optim as optim\n",
    "import numpy as np\n",
    "import matplotlib.pyplot as plt\n",
    "import os\n",
    "from tqdm import tqdm\n",
    "import tensorflow as tf\n",
    "import tensorflow_datasets as tfds"
   ]
  },
  {
   "cell_type": "code",
   "execution_count": null,
   "metadata": {},
   "outputs": [],
   "source": [
    "#tensorflow convert to torch dataset\n",
    "class SpeechCommandsDataset(torch.utils.data.Dataset):\n",
    "    def __init__(self, split='train',preprocess=lambda x: x):\n",
    "        self.data = []\n",
    "        # download the dataset form google drive and save on current directory\n",
    "        data=tfds.load('speech_commands',split=split,data_dir='./tensorflow_datasets',download=False)\n",
    "        for example in data:\n",
    "            audio=example['audio']\n",
    "            audio=np.array(audio)\n",
    "            audio=torch.tensor(audio)\n",
    "            audio=preprocess(audio)\n",
    "            label = torch.tensor(int(example['label']))\n",
    "            self.data.append((audio, label))\n",
    "\n",
    "    def __len__(self):\n",
    "        return len(self.data)\n",
    "\n",
    "    def __getitem__(self, idx):\n",
    "        return self.data[idx]\n"
   ]
  },
  {
   "cell_type": "code",
   "execution_count": 24,
   "metadata": {},
   "outputs": [],
   "source": [
    "def preprocess(audio):\n",
    "    # resizes the audio to 16000 samples\n",
    "    if audio.size(0) < 16000:\n",
    "        audio = F.pad(input=audio, pad=(0, 16000 - audio.size(0)), mode='constant', value=0)\n",
    "    \n",
    "    # normalizes the audio\n",
    "    audio = audio / 32768.0\n",
    "    return audio\n",
    "\n",
    "#check the dataset\n",
    "train_dataset = SpeechCommandsDataset('train', preprocess=preprocess)\n",
    "valid_dataset = SpeechCommandsDataset('validation', preprocess=preprocess)\n",
    "test_dataset = SpeechCommandsDataset('test', preprocess=preprocess)\n"
   ]
  },
  {
   "cell_type": "code",
   "execution_count": 25,
   "metadata": {},
   "outputs": [
    {
     "name": "stdout",
     "output_type": "stream",
     "text": [
      "torch.Size([64, 16000])\n",
      "tensor([0.0047, 0.0218, 0.0165,  ..., 0.0240, 0.0307, 0.0124])\n",
      "tensor([11, 11, 11,  6, 10, 11,  8,  4,  3,  3,  5,  9, 11, 11, 11, 11,  5, 11,\n",
      "        11, 11,  1, 11, 11, 11,  6,  9, 11, 11,  6,  5, 11, 11, 11,  3, 11, 11,\n",
      "        11, 11, 11, 11,  9, 11, 11, 11, 11, 11,  4, 11, 11, 11, 11,  2,  2, 11,\n",
      "        11,  3,  2, 11,  7, 11,  4, 11, 11, 11])\n"
     ]
    }
   ],
   "source": [
    "#dataset loader\n",
    "train_loader = torch.utils.data.DataLoader(train_dataset, batch_size=64, shuffle=True)\n",
    "valid_loader = torch.utils.data.DataLoader(valid_dataset, batch_size=64, shuffle=True)\n",
    "test_loader = torch.utils.data.DataLoader(test_dataset, batch_size=64, shuffle=True)\n",
    "\n",
    "#check the loader\n",
    "for (data,target) in train_loader:\n",
    "    print(data.shape)\n",
    "    print(data[0])\n",
    "    print(target)\n",
    "    break\n"
   ]
  },
  {
   "cell_type": "code",
   "execution_count": 26,
   "metadata": {},
   "outputs": [
    {
     "name": "stdout",
     "output_type": "stream",
     "text": [
      "number of parameters:  25420\n"
     ]
    },
    {
     "name": "stderr",
     "output_type": "stream",
     "text": [
      " 10%|█         | 1.0186666666666724/10 [00:08<00:55,  6.13s/it, Loss: 0.832583]   "
     ]
    },
    {
     "name": "stdout",
     "output_type": "stream",
     "text": [
      "Valid Epoch: 1\tAccuracy: 6597/10102 (65%)\t"
     ]
    },
    {
     "name": "stderr",
     "output_type": "stream",
     "text": [
      " 20%|██        | 2.0053333333333128/10 [00:15<00:46,  5.82s/it, Loss: 0.771579]"
     ]
    },
    {
     "name": "stdout",
     "output_type": "stream",
     "text": [
      "Valid Epoch: 2\tAccuracy: 7829/10102 (77%)\t"
     ]
    },
    {
     "name": "stderr",
     "output_type": "stream",
     "text": [
      " 30%|███       | 3.02133333333337/10 [00:23<00:50,  7.18s/it, Loss: 0.456503]  "
     ]
    },
    {
     "name": "stdout",
     "output_type": "stream",
     "text": [
      "Valid Epoch: 3\tAccuracy: 7997/10102 (79%)\t"
     ]
    },
    {
     "name": "stderr",
     "output_type": "stream",
     "text": [
      " 40%|████      | 4.018666666666756/10 [00:32<00:38,  6.38s/it, Loss: 0.436752] "
     ]
    },
    {
     "name": "stdout",
     "output_type": "stream",
     "text": [
      "Valid Epoch: 4\tAccuracy: 7437/10102 (74%)\t"
     ]
    },
    {
     "name": "stderr",
     "output_type": "stream",
     "text": [
      " 50%|█████     | 5.005333333333314/10 [00:39<00:28,  5.70s/it, Loss: 0.388748] "
     ]
    },
    {
     "name": "stdout",
     "output_type": "stream",
     "text": [
      "Valid Epoch: 5\tAccuracy: 6921/10102 (69%)\t"
     ]
    },
    {
     "name": "stderr",
     "output_type": "stream",
     "text": [
      " 60%|██████    | 6.023999999999869/10 [00:46<00:27,  6.95s/it, Loss: 0.271213] "
     ]
    },
    {
     "name": "stdout",
     "output_type": "stream",
     "text": [
      "Valid Epoch: 6\tAccuracy: 7812/10102 (77%)\t"
     ]
    },
    {
     "name": "stderr",
     "output_type": "stream",
     "text": [
      " 70%|███████   | 7.005333333333094/10 [00:54<00:17,  5.99s/it, Loss: 0.433177] "
     ]
    },
    {
     "name": "stdout",
     "output_type": "stream",
     "text": [
      "Valid Epoch: 7\tAccuracy: 8277/10102 (82%)\t"
     ]
    },
    {
     "name": "stderr",
     "output_type": "stream",
     "text": [
      " 80%|████████  | 8.013333333332984/10 [01:01<00:11,  5.76s/it, Loss: 0.406713] "
     ]
    },
    {
     "name": "stdout",
     "output_type": "stream",
     "text": [
      "Valid Epoch: 8\tAccuracy: 8099/10102 (80%)\t"
     ]
    },
    {
     "name": "stderr",
     "output_type": "stream",
     "text": [
      " 90%|█████████ | 9.010666666666207/10 [01:09<00:05,  5.96s/it, Loss: 0.574722]"
     ]
    },
    {
     "name": "stdout",
     "output_type": "stream",
     "text": [
      "Valid Epoch: 9\tAccuracy: 8741/10102 (87%)\t"
     ]
    },
    {
     "name": "stderr",
     "output_type": "stream",
     "text": [
      "100%|█████████▉| 9.999999999999432/10 [01:16<00:00,  7.66s/it, Loss: 0.384388]\n"
     ]
    },
    {
     "name": "stdout",
     "output_type": "stream",
     "text": [
      "Valid Epoch: 10\tAccuracy: 8738/10102 (86%)\t\n",
      "Test Epoch: 10\tAccuracy: 3536/4890 (72%)\n",
      "\n"
     ]
    }
   ],
   "source": [
    "# cnn \n",
    "class SpeechCommandsCNN(nn.Module):\n",
    "    def __init__(self, n_input=1, n_output=12, stride=32, n_channel=32):\n",
    "        super().__init__()\n",
    "        self.conv1 = nn.Conv1d(n_input, n_channel, kernel_size=80, stride=stride)\n",
    "        self.bn1 = nn.BatchNorm1d(n_channel)\n",
    "        self.pool1 = nn.MaxPool1d(4)\n",
    "        self.conv2 = nn.Conv1d(n_channel, n_channel, kernel_size=3)\n",
    "        self.bn2 = nn.BatchNorm1d(n_channel)\n",
    "        self.pool2 = nn.MaxPool1d(4)\n",
    "        self.conv3 = nn.Conv1d(n_channel, 2 * n_channel, kernel_size=3)\n",
    "        self.bn3 = nn.BatchNorm1d(2 * n_channel)\n",
    "        self.pool3 = nn.MaxPool1d(4)\n",
    "        self.conv4 = nn.Conv1d(2 * n_channel, 2 * n_channel, kernel_size=3)\n",
    "        self.bn4 = nn.BatchNorm1d(2 * n_channel)\n",
    "        self.pool4 = nn.MaxPool1d(4)\n",
    "        self.fc1 = nn.Linear(2 * n_channel, n_output)\n",
    "\n",
    "    def forward(self, x):\n",
    "        x = self.conv1(x)\n",
    "        x = F.relu(self.bn1(x))\n",
    "        x = self.pool1(x)\n",
    "        x = self.conv2(x)\n",
    "        x = F.relu(self.bn2(x))\n",
    "        x = self.pool2(x)\n",
    "        x = self.conv3(x)\n",
    "        x = F.relu(self.bn3(x))\n",
    "        x = self.pool3(x)\n",
    "        x = self.conv4(x)\n",
    "        x = F.relu(self.bn4(x))\n",
    "        x = self.pool4(x)\n",
    "        x = F.avg_pool1d(x, x.shape[-1])\n",
    "        x = x.permute(0, 2, 1)\n",
    "        x = self.fc1(x)\n",
    "        return F.log_softmax(x, dim=2)\n",
    "    \n",
    "def count_parameters(model):\n",
    "    return sum(p.numel() for p in model.parameters() if p.requires_grad)\n",
    "\n",
    "model = SpeechCommandsCNN()\n",
    "print(\"number of parameters: \", count_parameters(model))\n",
    "\n",
    "# training\n",
    "\n",
    "def train(model, device, train_loader, optimizer, epoch, log_interval):\n",
    "    model.train()\n",
    "    for batch_idx, (data,target) in enumerate(train_loader):\n",
    "        data = data.to(device)\n",
    "        target = target.to(device)\n",
    "        data = data.view(data.shape[0], 1, data.shape[1])\n",
    "        # print(data.shape)\n",
    "\n",
    "        optimizer.zero_grad()\n",
    "        output = model(data)\n",
    "        # print(output.shape)\n",
    "        # print(target.shape)\n",
    "        # print(output.squeeze().shape)\n",
    "        # break\n",
    "        \n",
    "        loss = F.nll_loss(output.squeeze(), target)\n",
    "        loss.backward()\n",
    "        optimizer.step()\n",
    "\n",
    "        pbar.update(pbar_update)\n",
    "        if batch_idx % log_interval == 0:\n",
    "            # print(f\"Train Epoch: {epoch} [{batch_idx * len(data)}/{len(train_loader.dataset)} ({100. * batch_idx / len(train_loader):.0f}%)]\\tLoss: {loss.item():.6f}\")\n",
    "            pbar.set_postfix_str(f\"Loss: {loss.item():.6f}\")\n",
    "def valid(model, device, val_loader, epoch):\n",
    "    val_loss=0\n",
    "    correct=0\n",
    "    model.eval()\n",
    "    with torch.no_grad():\n",
    "        for data, target in val_loader:\n",
    "            data = data.to(device)\n",
    "            target = target.to(device)\n",
    "            data = data.view(data.shape[0], 1, data.shape[1])\n",
    "            output = model(data)\n",
    "            val_loss += F.nll_loss(output.squeeze(), target, reduction='sum').item()\n",
    "            pred = output.argmax(dim=2, keepdim=True)\n",
    "            correct += pred.eq(target.view_as(pred)).sum().item()\n",
    "            pbar.update(pbar_update)\n",
    "    val_loss /= len(val_loader.dataset)\n",
    "    print(f\"Valid Epoch: {epoch}\\tAccuracy: {correct}/{len(val_loader.dataset)} ({100. * correct / len(val_loader.dataset):.0f}%)\",end='\\t')\n",
    "\n",
    "\n",
    "def test(model, device, test_loader):\n",
    "    model.eval()\n",
    "    test_loss = 0\n",
    "    correct = 0\n",
    "    with torch.no_grad():\n",
    "        for data, target in test_loader:\n",
    "            data = data.to(device)\n",
    "            target = target.to(device)\n",
    "            data = data.view(data.shape[0], 1, data.shape[1])\n",
    "            output = model(data)\n",
    "            test_loss += F.nll_loss(output.squeeze(), target, reduction='sum').item()\n",
    "            pred = output.argmax(dim=2, keepdim=True)\n",
    "            correct += pred.eq(target.view_as(pred)).sum().item()\n",
    "\n",
    "    test_loss /= len(test_loader.dataset)\n",
    "\n",
    "    print(f\"\\nTest Epoch: {epoch}\\tAccuracy: {correct}/{len(test_loader.dataset)} ({100. * correct / len(test_loader.dataset):.0f}%)\")\n",
    "    print()\n",
    "    \n",
    "\n",
    "\n",
    "\n",
    "batch_size = 256\n",
    "\n",
    "device = torch.device(\"cuda\" if torch.cuda.is_available() else \"cpu\")\n",
    "train_loader = torch.utils.data.DataLoader(train_dataset, batch_size=batch_size, shuffle=True)\n",
    "val_loader = torch.utils.data.DataLoader(valid_dataset, batch_size=batch_size, shuffle=True)\n",
    "test_loader = torch.utils.data.DataLoader(test_dataset, batch_size=batch_size, shuffle=True)\n",
    "\n",
    "model = SpeechCommandsCNN().to(device)\n",
    "optimizer = optim.Adam(model.parameters(), lr=0.01)\n",
    "n_epoch = 10\n",
    "log_interval = 10\n",
    "pbar_update = 1 / (len(train_loader)+len(val_loader))\n",
    "\n",
    "with tqdm(total=n_epoch) as pbar:\n",
    "    for epoch in range(1, n_epoch + 1):\n",
    "        train(model,device,train_loader,optimizer, epoch, log_interval)\n",
    "        valid(model,device,val_loader,epoch)\n",
    "test(model,device,test_loader)"
   ]
  },
  {
   "cell_type": "code",
   "execution_count": 28,
   "metadata": {},
   "outputs": [
    {
     "name": "stdout",
     "output_type": "stream",
     "text": [
      "number of parameters:  128487\n"
     ]
    },
    {
     "name": "stderr",
     "output_type": "stream",
     "text": [
      " 10%|█         | 1.0026666666666728/10 [00:27<01:40, 11.17s/it, Loss: 1.244031]   "
     ]
    },
    {
     "name": "stdout",
     "output_type": "stream",
     "text": [
      "Valid Epoch: 1\tAccuracy: 3473/10102 (34%)\t"
     ]
    },
    {
     "name": "stderr",
     "output_type": "stream",
     "text": [
      " 20%|██        | 2.0053333333333128/10 [00:54<01:48, 13.63s/it, Loss: 0.976835]"
     ]
    },
    {
     "name": "stdout",
     "output_type": "stream",
     "text": [
      "Valid Epoch: 2\tAccuracy: 5236/10102 (52%)\t"
     ]
    },
    {
     "name": "stderr",
     "output_type": "stream",
     "text": [
      " 30%|███       | 3.0026666666667023/10 [01:23<01:24, 12.08s/it, Loss: 0.858800]"
     ]
    },
    {
     "name": "stdout",
     "output_type": "stream",
     "text": [
      "Valid Epoch: 3\tAccuracy: 1347/10102 (13%)\t"
     ]
    },
    {
     "name": "stderr",
     "output_type": "stream",
     "text": [
      " 40%|████      | 4.002666666666758/10 [01:53<01:09, 11.67s/it, Loss: 0.532914] "
     ]
    },
    {
     "name": "stdout",
     "output_type": "stream",
     "text": [
      "Valid Epoch: 4\tAccuracy: 5658/10102 (56%)\t"
     ]
    },
    {
     "name": "stderr",
     "output_type": "stream",
     "text": [
      " 50%|█████     | 5.005333333333314/10 [02:21<01:08, 13.79s/it, Loss: 0.480026] "
     ]
    },
    {
     "name": "stdout",
     "output_type": "stream",
     "text": [
      "Valid Epoch: 5\tAccuracy: 5984/10102 (59%)\t"
     ]
    },
    {
     "name": "stderr",
     "output_type": "stream",
     "text": [
      " 60%|██████    | 6.002666666666538/10 [02:48<00:47, 11.83s/it, Loss: 0.642656] "
     ]
    },
    {
     "name": "stdout",
     "output_type": "stream",
     "text": [
      "Valid Epoch: 6\tAccuracy: 7606/10102 (75%)\t"
     ]
    },
    {
     "name": "stderr",
     "output_type": "stream",
     "text": [
      " 70%|███████   | 7.005333333333094/10 [03:16<00:46, 15.55s/it, Loss: 0.625366] "
     ]
    },
    {
     "name": "stdout",
     "output_type": "stream",
     "text": [
      "Valid Epoch: 7\tAccuracy: 3180/10102 (31%)\t"
     ]
    },
    {
     "name": "stderr",
     "output_type": "stream",
     "text": [
      " 80%|████████  | 8.002666666666318/10 [03:47<00:24, 12.51s/it, Loss: 0.625673] "
     ]
    },
    {
     "name": "stdout",
     "output_type": "stream",
     "text": [
      "Valid Epoch: 8\tAccuracy: 6041/10102 (60%)\t"
     ]
    },
    {
     "name": "stderr",
     "output_type": "stream",
     "text": [
      " 90%|█████████ | 9.005333333332874/10 [04:19<00:13, 14.07s/it, Loss: 0.470058]"
     ]
    },
    {
     "name": "stdout",
     "output_type": "stream",
     "text": [
      "Valid Epoch: 9\tAccuracy: 8584/10102 (85%)\t"
     ]
    },
    {
     "name": "stderr",
     "output_type": "stream",
     "text": [
      "100%|█████████▉| 9.999999999999432/10 [04:49<00:00, 28.90s/it, Loss: 0.334061]\n"
     ]
    },
    {
     "name": "stdout",
     "output_type": "stream",
     "text": [
      "Valid Epoch: 10\tAccuracy: 7805/10102 (77%)\t\n",
      "Test Epoch: 10\tAccuracy: 3174/4890 (65%)\n",
      "\n"
     ]
    }
   ],
   "source": [
    "#res net\n",
    "class ResidualBlock(nn.Module):\n",
    "    def __init__(self, n_channel):\n",
    "        super().__init__()\n",
    "        self.conv1 = nn.Conv1d(n_channel, n_channel, kernel_size=3, padding=1)\n",
    "        self.bn1 = nn.BatchNorm1d(n_channel)\n",
    "        self.conv2 = nn.Conv1d(n_channel, n_channel, kernel_size=3, padding=1)\n",
    "        self.bn2 = nn.BatchNorm1d(n_channel)\n",
    "\n",
    "    def forward(self, x):\n",
    "        y = F.relu(self.bn1(self.conv1(x)))\n",
    "        y = self.bn2(self.conv2(y))\n",
    "        return F.relu(x + y)\n",
    "    \n",
    "class ResNet(nn.Module):\n",
    "    def __init__(self, n_input=1, n_output=12, n_channel=45, n_res_block=20):\n",
    "        super().__init__()\n",
    "        self.conv1 = nn.Conv1d(n_input, n_channel, kernel_size=80, stride=4)\n",
    "        self.bn1 = nn.BatchNorm1d(n_channel)\n",
    "        self.pool = nn.MaxPool1d(4)\n",
    "        self.resblocks = nn.Sequential(*[ResidualBlock(n_channel) for _ in range(n_res_block)])\n",
    "        self.fc1 = nn.Linear(n_channel, n_output)\n",
    "\n",
    "    def forward(self, x):\n",
    "        x = self.pool(F.relu(self.bn1(self.conv1(x))))\n",
    "        x = self.resblocks(x)\n",
    "        x = F.avg_pool1d(x, x.shape[-1])\n",
    "        x = x.permute(0, 2, 1)\n",
    "        x = self.fc1(x)\n",
    "        return F.log_softmax(x, dim=2)\n",
    "\n",
    "model = ResNet(n_res_block=10).to(device)\n",
    "print(\"number of parameters: \", count_parameters(model))\n",
    "\n",
    "batch_size = 256\n",
    "\n",
    "device = torch.device(\"cuda\" if torch.cuda.is_available() else \"cpu\")\n",
    "train_loader = torch.utils.data.DataLoader(train_dataset, batch_size=batch_size, shuffle=True)\n",
    "val_loader = torch.utils.data.DataLoader(valid_dataset, batch_size=batch_size, shuffle=True)\n",
    "test_loader = torch.utils.data.DataLoader(test_dataset, batch_size=batch_size, shuffle=True)\n",
    "\n",
    "optimizer = optim.Adam(model.parameters(), lr=0.01)\n",
    "n_epoch = 10\n",
    "log_interval = 10\n",
    "pbar_update = 1 / (len(train_loader)+len(val_loader))\n",
    "\n",
    "with tqdm(total=n_epoch) as pbar:\n",
    "    for epoch in range(1, n_epoch + 1):\n",
    "        train(model,device,train_loader,optimizer, epoch, log_interval)\n",
    "        valid(model,device,val_loader,epoch)\n",
    "test(model,device,test_loader)\n"
   ]
  }
 ],
 "metadata": {
  "kernelspec": {
   "display_name": "Python 3",
   "language": "python",
   "name": "python3"
  },
  "language_info": {
   "codemirror_mode": {
    "name": "ipython",
    "version": 3
   },
   "file_extension": ".py",
   "mimetype": "text/x-python",
   "name": "python",
   "nbconvert_exporter": "python",
   "pygments_lexer": "ipython3",
   "version": "3.11.9"
  }
 },
 "nbformat": 4,
 "nbformat_minor": 2
}
